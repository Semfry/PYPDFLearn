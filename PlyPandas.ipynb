{
 "cells": [
  {
   "cell_type": "code",
   "execution_count": 42,
   "metadata": {},
   "outputs": [
    {
     "name": "stdout",
     "output_type": "stream",
     "text": [
      "                                  id Gate Name      Age Activity   Gender  \\\n",
      "0   01fd8123bbcee1d1adb20e452917ca37    Gate 2    Adult  Walking   Female   \n",
      "1   08f5f3f75f9586371d4676ecd953b367    Gate 4    Adult      Dog   Female   \n",
      "2   0a9aa73eb676d76bfa92bd8300214299    Gate 5    Adult      Dog     Male   \n",
      "3   0b65fc3731fac7890ddbfccfd15ba356    Gate 5    Adult      Dog   Female   \n",
      "4   0e8da7fa6289d6dd3abdb26de6f8a250    Gate 1  Elderly      Dog   Female   \n",
      "..                               ...       ...      ...      ...      ...   \n",
      "59  e8789d275ba1b42ceda25577e5d42596    Gate 5    Adult      Dog     Male   \n",
      "60  ead56752c495521d10bb3503f2c84fd8    Gate 2    Adult  Walking   Female   \n",
      "61  ecb003ebc154ca6c0ae5a775ea847ff6    Gate 4    Adult     Walk   Female   \n",
      "62  ef735f0fbbd269c026d0ae071c64fb72    Gate 1    Adult     Walk  Female    \n",
      "63  f814730ca815e029e8974c2fb837c857    Gate 2    Adult  Walking     Male   \n",
      "\n",
      "               Coordinates  \n",
      "0   [-4.153269, 50.383945]  \n",
      "1   [-4.143887, 50.388399]  \n",
      "2   [-4.152142, 50.389098]  \n",
      "3   [-4.152142, 50.389098]  \n",
      "4   [-4.146644, 50.381767]  \n",
      "..                     ...  \n",
      "59  [-4.152142, 50.389098]  \n",
      "60  [-4.153269, 50.383945]  \n",
      "61  [-4.143887, 50.388399]  \n",
      "62  [-4.149242, 50.379465]  \n",
      "63  [-4.153269, 50.383945]  \n",
      "\n",
      "[64 rows x 6 columns]\n"
     ]
    }
   ],
   "source": [
    "import requests, json, pandas, collections\n",
    "\n",
    "# Load Data\n",
    "\n",
    "with open(\"parkarrivedata.json\") as data_file:\n",
    "    plyPanJson = json.load(data_file)\n",
    "\n",
    "plyPan = pandas.json_normalize(\n",
    "    plyPanJson,\n",
    "    record_path=[\"features\"],\n",
    ")\n",
    "\n",
    "# Arrange Data\n",
    "\n",
    "plyPan.drop(\n",
    "    columns=[\n",
    "        \"type\", \n",
    "        \"geometry.type\"\n",
    "    ], \n",
    "    inplace=True\n",
    ")\n",
    "plyPan.rename(\n",
    "    columns={\n",
    "        \"properties.Age\": \"Age\",\n",
    "        \"properties.Gate Name\": \"Gate Name\",\n",
    "        \"properties.Activity\": \"Activity\",\n",
    "        \"properties.Gender\": \"Gender\",\n",
    "        \"geometry.coordinates\": \"Coordinates\",\n",
    "    },\n",
    "    inplace=True,\n",
    ")\n",
    "\n",
    "# Compare data\n",
    "\n",
    "#print(plyPan.sum())\n",
    "print(plyPan)\n",
    "\n",
    "# Write to file\n",
    "\n",
    "#plyPan.to_json('parkarrivepandas.json')\n"
   ]
  }
 ],
 "metadata": {
  "kernelspec": {
   "display_name": "Python 3.8.10 ('venv': venv)",
   "language": "python",
   "name": "python3"
  },
  "language_info": {
   "codemirror_mode": {
    "name": "ipython",
    "version": 3
   },
   "file_extension": ".py",
   "mimetype": "text/x-python",
   "name": "python",
   "nbconvert_exporter": "python",
   "pygments_lexer": "ipython3",
   "version": "3.8.10"
  },
  "orig_nbformat": 4,
  "vscode": {
   "interpreter": {
    "hash": "3bb7552b42a98bb0b36c4915a2bc7f3835aab2e6808a8510d2c512938404baf1"
   }
  }
 },
 "nbformat": 4,
 "nbformat_minor": 2
}
