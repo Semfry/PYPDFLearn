{
 "cells": [
  {
   "cell_type": "code",
   "execution_count": 1,
   "metadata": {},
   "outputs": [],
   "source": [
    "import requests, json, pandas, collections\n",
    "\n",
    "# Load Data\n",
    "\n",
    "with open(\"parkarrivedata.json\") as data_file:\n",
    "    plyPanJson = json.load(data_file)\n",
    "\n",
    "plyPan = pandas.json_normalize(\n",
    "    plyPanJson,\n",
    "    record_path=[\"features\"],\n",
    ")\n",
    "\n",
    "# Arrange Data\n",
    "\n",
    "plyPan.drop(\n",
    "    columns=[\n",
    "        \"type\", \n",
    "        \"geometry.type\"\n",
    "    ], \n",
    "    inplace=True\n",
    ")\n",
    "plyPan.rename(\n",
    "    columns={\n",
    "        \"properties.Age\": \"Age\",\n",
    "        \"properties.Gate Name\": \"Gate Name\",\n",
    "        \"properties.Activity\": \"Activity\",\n",
    "        \"properties.Gender\": \"Gender\",\n",
    "        \"geometry.coordinates\": \"Coordinates\",\n",
    "    },\n",
    "    inplace=True,\n",
    ")\n",
    "\n",
    "# Compare data\n",
    "\n",
    "# plyPan[\"Age\"].mode()\n",
    "\n",
    "# Write to file\n",
    "\n",
    "plyPan.to_csv('parkarrivepandas.csv')\n"
   ]
  }
 ],
 "metadata": {
  "kernelspec": {
   "display_name": "Python 3.10.5 ('venv': venv)",
   "language": "python",
   "name": "python3"
  },
  "language_info": {
   "codemirror_mode": {
    "name": "ipython",
    "version": 3
   },
   "file_extension": ".py",
   "mimetype": "text/x-python",
   "name": "python",
   "nbconvert_exporter": "python",
   "pygments_lexer": "ipython3",
   "version": "3.10.5"
  },
  "orig_nbformat": 4,
  "vscode": {
   "interpreter": {
    "hash": "efe9bc5d777de7b90969f95f031d29c3a53a57050b85bef7edd4221a1baa25c3"
   }
  }
 },
 "nbformat": 4,
 "nbformat_minor": 2
}
