{
 "cells": [
  {
   "cell_type": "code",
   "execution_count": 89,
   "metadata": {},
   "outputs": [],
   "source": [
    "import requests, bs4, json, pandas\n",
    "\n",
    "with open(\"parkarrivedata.json\") as data_file:\n",
    "    plyPanJson = json.load(data_file)\n",
    "\n",
    "plyPan = pandas.json_normalize(\n",
    "    plyPanJson,\n",
    "    record_path=[\"features\"],\n",
    ")\n",
    "\n",
    "# plyPan['id'].str[:8]\n",
    "plyPan.drop(columns=['type'], inplace=True)\n",
    "plyPan.rename(columns={'properties.Age': 'Age', 'properties.Gate Name': 'Gate Name', 'properties.Activity': 'Activity', 'properties.Gender': 'Gender', 'geometry.coordinates': 'Coordinates', 'geometry.type': 'Coordinate type'}, inplace=True)\n",
    "\n",
    "plyPan.to_csv('parkarrivepandas.csv')\n"
   ]
  }
 ],
 "metadata": {
  "kernelspec": {
   "display_name": "Python 3.10.5 ('venv': venv)",
   "language": "python",
   "name": "python3"
  },
  "language_info": {
   "codemirror_mode": {
    "name": "ipython",
    "version": 3
   },
   "file_extension": ".py",
   "mimetype": "text/x-python",
   "name": "python",
   "nbconvert_exporter": "python",
   "pygments_lexer": "ipython3",
   "version": "3.10.5"
  },
  "orig_nbformat": 4,
  "vscode": {
   "interpreter": {
    "hash": "efe9bc5d777de7b90969f95f031d29c3a53a57050b85bef7edd4221a1baa25c3"
   }
  }
 },
 "nbformat": 4,
 "nbformat_minor": 2
}
